{
 "cells": [
  {
   "cell_type": "markdown",
   "id": "abc3a805-86f9-44d5-a3e3-0f2097d4e512",
   "metadata": {},
   "source": [
    "# Data Science Tools and Ecosystem"
   ]
  },
  {
   "cell_type": "markdown",
   "id": "5f39d3eb-6667-47ac-bfeb-d6bcf74eb775",
   "metadata": {},
   "source": [
    "In this notebook, Data Science Tools and Ecosystem are summarized."
   ]
  },
  {
   "cell_type": "markdown",
   "id": "ac49c425-4095-41a9-b678-3126d9251324",
   "metadata": {},
   "source": [
    "**Objectives:**\n",
    "\n",
    "*   List popular languages for Data Science\n",
    "*   List commonly used Data Science libraries\n",
    "*   Introduce Data Science development environment tools\n",
    "*   Demonstrate arithmetic expressions in Python\n",
    "*   Convert between units of time"
   ]
  },
  {
   "cell_type": "markdown",
   "id": "14a8103a-593b-4456-94b8-b534311dad7e",
   "metadata": {},
   "source": [
    "Some of the popular languages that Data Scientists use are:\n",
    "\n",
    "1.  Python\n",
    "2.  R\n",
    "3.  Julia\n",
    "4.  SQL"
   ]
  },
  {
   "cell_type": "markdown",
   "id": "e11f2626-1197-4792-a63e-61ac7681741e",
   "metadata": {},
   "source": [
    "Some of the commonly used libraries used by Data Scientists include:\n",
    "\n",
    "1.  Pandas\n",
    "2.  NumPy\n",
    "3.  Scikit-learn\n",
    "4.  TensorFlow\n",
    "5.  PyTorch"
   ]
  },
  {
   "cell_type": "markdown",
   "id": "c46f3622-ceef-4e2a-9b76-158206738f62",
   "metadata": {},
   "source": [
    "| Data Science Tools |\n",
    "|-------------------|\n",
    "| Jupyter Notebooks |\n",
    "| RStudio           |\n",
    "| Apache Zeppelin   |"
   ]
  },
  {
   "cell_type": "markdown",
   "id": "2df2e8ef-ed34-4084-89e1-50375c0787b2",
   "metadata": {},
   "source": [
    "### Below are a few examples of evaluating arithmetic expressions in Python."
   ]
  },
  {
   "cell_type": "code",
   "execution_count": 3,
   "id": "d70c5696-2199-4210-92ab-f8b20298ca1a",
   "metadata": {},
   "outputs": [
    {
     "data": {
      "text/plain": [
       "17"
      ]
     },
     "execution_count": 3,
     "metadata": {},
     "output_type": "execute_result"
    }
   ],
   "source": [
    "# This a simple arithmetic expression to multiply then add integers.\n",
    "(3*4)+5"
   ]
  },
  {
   "cell_type": "code",
   "execution_count": 4,
   "id": "6749d5a7-82ee-40d2-afd1-e7e273793ddf",
   "metadata": {},
   "outputs": [
    {
     "data": {
      "text/plain": [
       "3.3333333333333335"
      ]
     },
     "execution_count": 4,
     "metadata": {},
     "output_type": "execute_result"
    }
   ],
   "source": [
    "# This will convert 200 minutes to hours by dividing by 60.\n",
    "200 / 60"
   ]
  },
  {
   "cell_type": "markdown",
   "id": "d2c55e15-839e-4c9f-befd-ffef5a09cb0f",
   "metadata": {},
   "source": [
    "## Author\n",
    "Rohit Shrivastava"
   ]
  }
 ],
 "metadata": {
  "kernelspec": {
   "display_name": "Python 3 (ipykernel)",
   "language": "python",
   "name": "python3"
  },
  "language_info": {
   "codemirror_mode": {
    "name": "ipython",
    "version": 3
   },
   "file_extension": ".py",
   "mimetype": "text/x-python",
   "name": "python",
   "nbconvert_exporter": "python",
   "pygments_lexer": "ipython3",
   "version": "3.12.8"
  }
 },
 "nbformat": 4,
 "nbformat_minor": 5
}
